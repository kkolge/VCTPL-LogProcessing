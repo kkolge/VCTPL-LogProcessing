{
 "cells": [
  {
   "cell_type": "code",
   "execution_count": null,
   "id": "d63b7814-a4bc-451f-9325-fb8bc54df4cc",
   "metadata": {},
   "outputs": [],
   "source": [
    "import glob\n",
    "import pandas as pd"
   ]
  },
  {
   "cell_type": "code",
   "execution_count": null,
   "id": "98caa906-d222-420b-88ad-016402c8ac26",
   "metadata": {},
   "outputs": [],
   "source": [
    "folder_path = '/home/ketan/repos/ibTrack/VCTPL/LogProcessing/src/reader_logs/log_files'\n",
    "res = glob.glob(f\"{folder_path}/**/*.txt\", recursive=True)\n",
    "print(res)"
   ]
  },
  {
   "cell_type": "code",
   "execution_count": null,
   "id": "3ec5f368-f427-4966-9602-0f2cce54d6ce",
   "metadata": {},
   "outputs": [],
   "source": [
    "def load_file_to_df(filename):\n",
    "    \"\"\"This function takes a file name as an input and loads it into a dataframe\n",
    "    and returns a dataframe\"\"\"\n",
    "    try:\n",
    "        df_file = pd.read_csv(filename,\n",
    "                              sep=\" : \",\n",
    "                              header=None,\n",
    "                              names=[\"Reader_IP\", \"Tag ID\", \"TEMP\"], engine=\"python\")\n",
    "    except FileNotFoundError as fnfe:\n",
    "        df_file = None\n",
    "        print(f\"{filename} not found. Please check the folder selection and try again\")\n",
    "\n",
    "    if df_file is not None:\n",
    "        df_file.head()\n",
    "\n",
    "    return df_file\n"
   ]
  },
  {
   "cell_type": "code",
   "execution_count": null,
   "id": "0afe360e-6aaa-4e90-8dac-4ee50d66c570",
   "metadata": {},
   "outputs": [],
   "source": [
    "df_all_files = pd.DataFrame()\n",
    "for file in res:\n",
    "    print(f\"Start importing file {file}\")\n",
    "    df_all_files = pd.concat([df_all_files, load_file_to_df(file)],\n",
    "                             axis=0,\n",
    "                             ignore_index=True)\n"
   ]
  },
  {
   "cell_type": "markdown",
   "id": "e137c990-fbdf-4310-abd8-9e88e582cc46",
   "metadata": {},
   "source": [
    "df_all_files.head()"
   ]
  },
  {
   "cell_type": "markdown",
   "id": "69d0f35c-e767-4d23-b09f-364abd838ac8",
   "metadata": {},
   "source": [
    "df_all_files.info()"
   ]
  },
  {
   "cell_type": "code",
   "execution_count": null,
   "id": "f1170099-d8e8-4147-9372-6dfe4be57a85",
   "metadata": {},
   "outputs": [],
   "source": [
    "def df_preprocess(df):\n",
    "    # processing the dataframe to get the relevant data in the format that can be processed\n",
    "    df[[\"RSSI\", \"Date\", \"Time\", \"AMPM\"]] = df[\"TEMP\"].str.split(\" \", expand=True)\n",
    "    df[\"TimeStamp\"] = pd.to_datetime(df['Date'] + ' ' + df['Time'], format=\"%m/%d/%Y %H:%M:%S\")\n",
    "    df = df.drop(labels=[\"Date\", \"Time\", \"AMPM\", \"TEMP\"], axis=1)\n",
    "    \n",
    "    df.sort_values(by=[\"Tag ID\", \"Reader_IP\", \"TimeStamp\"])\n",
    "    df.reset_index()\n",
    "\n",
    "    # df_by_group = df.groupby(by=[\"Tag ID\", \"Reader_IP\"], sort=True, group_keys=True)\n",
    "    # df_by_group = df.groupby(by=[\"Tag ID\", \"Reader_IP\"], sort=True, group_keys=True)\n",
    "\n",
    "    # return df_by_group\n",
    "    return df"
   ]
  },
  {
   "cell_type": "code",
   "execution_count": null,
   "id": "69e2c08d-988d-4a85-bcb5-b7303706b33d",
   "metadata": {},
   "outputs": [],
   "source": [
    "df_processed = df_preprocess(df_all_files)"
   ]
  },
  {
   "cell_type": "markdown",
   "id": "6f53d70d-2e9b-4cf9-ac4f-56627518e216",
   "metadata": {
    "scrolled": true
   },
   "source": [
    "df_processed.info()"
   ]
  },
  {
   "cell_type": "markdown",
   "id": "4851015a-2413-4bff-a74b-5cb8ded30aa5",
   "metadata": {
    "scrolled": true
   },
   "source": [
    "df_processed.head(150)"
   ]
  },
  {
   "cell_type": "markdown",
   "id": "bbf2340f-4024-4162-8ba9-42bb891b6e46",
   "metadata": {},
   "source": [
    "df_processed.tail()"
   ]
  },
  {
   "cell_type": "code",
   "execution_count": null,
   "id": "911e2689-8d23-491e-a449-3b527cfcba64",
   "metadata": {},
   "outputs": [],
   "source": [
    "df_processed.info()"
   ]
  },
  {
   "cell_type": "code",
   "execution_count": null,
   "id": "6a7733ea-ed3a-4adc-9d7b-70e9cdebab29",
   "metadata": {},
   "outputs": [],
   "source": [
    "df_processed[\"RSSI\"] = df_processed[\"RSSI\"].astype(float)\n",
    "df_processed['TimeStamp'] = pd.to_datetime(df_processed['TimeStamp'])"
   ]
  },
  {
   "cell_type": "code",
   "execution_count": null,
   "id": "1c6b3e94-8dbf-4ad9-a5fe-8428476eeec8",
   "metadata": {},
   "outputs": [],
   "source": [
    "df_processed['batch'] = (df_processed['Reader_IP'] != df_processed['Reader_IP'].shift(1)) | (df_processed['Tag ID'] != df_processed['Tag ID'].shift(1)) | (df_processed['TimeStamp'].shift(1) - df_processed['TimeStamp'] > pd.Timedelta(1,'h'))"
   ]
  },
  {
   "cell_type": "code",
   "execution_count": null,
   "id": "347f6541-d09e-4d53-b33c-85b184cdbcc6",
   "metadata": {},
   "outputs": [],
   "source": [
    "df_processed.head()"
   ]
  },
  {
   "cell_type": "code",
   "execution_count": null,
   "id": "6aa039c8-462b-4ed4-86dd-aad7f234bd58",
   "metadata": {},
   "outputs": [],
   "source": [
    "# Create a batch number for each set of consecutive rows with the same 'sensor_id' and 'reader_id'\n",
    "df_processed['timestamp_int'] = df_processed['TimeStamp'].astype(int)\n",
    "df_processed['batch_number'] = (df_processed['batch']).cumsum()\n"
   ]
  },
  {
   "cell_type": "code",
   "execution_count": null,
   "id": "c743161a-88d7-43e0-82df-021579bda5dd",
   "metadata": {},
   "outputs": [],
   "source": [
    "df_grouped = df_processed.groupby([\"Tag ID\", \"Reader_IP\", \"batch_number\"])"
   ]
  },
  {
   "cell_type": "code",
   "execution_count": null,
   "id": "e6d37b43-7e5a-435e-a3bd-6d071147c709",
   "metadata": {},
   "outputs": [],
   "source": [
    "agg_functions = {\n",
    "    'TimeStamp': ['min', 'max'],\n",
    "    'RSSI': 'max'\n",
    "}"
   ]
  },
  {
   "cell_type": "code",
   "execution_count": null,
   "id": "a6c2b4a0-df3f-4e3f-9176-97077154dc9a",
   "metadata": {},
   "outputs": [],
   "source": [
    "result_df = df_grouped.agg(agg_functions).reset_index()"
   ]
  },
  {
   "cell_type": "code",
   "execution_count": null,
   "id": "37b190f0-ac8d-4423-bbf8-303d52bda4ed",
   "metadata": {
    "scrolled": true
   },
   "outputs": [],
   "source": [
    "result_df.head()"
   ]
  },
  {
   "cell_type": "code",
   "execution_count": null,
   "id": "2c290d6e-660f-4c20-8d64-b3290db0880d",
   "metadata": {},
   "outputs": [],
   "source": [
    "# result_df['TimeStamp'] = pd.to_datetime(result_df['TimeStamp'])"
   ]
  },
  {
   "cell_type": "code",
   "execution_count": null,
   "id": "eb1152dd-47ae-44d5-9628-e4eaf8a74736",
   "metadata": {},
   "outputs": [],
   "source": [
    "print(result_df)"
   ]
  },
  {
   "cell_type": "code",
   "execution_count": null,
   "id": "526beed3-d204-4ecc-96a1-2a0ecfd72b02",
   "metadata": {},
   "outputs": [],
   "source": [
    "result_df.to_csv"
   ]
  },
  {
   "cell_type": "code",
   "execution_count": null,
   "id": "de5cd524-f4e4-498e-9cb3-2ac20a8f8848",
   "metadata": {},
   "outputs": [],
   "source": []
  }
 ],
 "metadata": {
  "kernelspec": {
   "display_name": "Python 3 (ipykernel)",
   "language": "python",
   "name": "python3"
  },
  "language_info": {
   "codemirror_mode": {
    "name": "ipython",
    "version": 3
   },
   "file_extension": ".py",
   "mimetype": "text/x-python",
   "name": "python",
   "nbconvert_exporter": "python",
   "pygments_lexer": "ipython3",
   "version": "3.10.12"
  }
 },
 "nbformat": 4,
 "nbformat_minor": 5
}
