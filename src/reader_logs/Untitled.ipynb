{
 "cells": [
  {
   "cell_type": "code",
   "execution_count": 1,
   "id": "d63b7814-a4bc-451f-9325-fb8bc54df4cc",
   "metadata": {},
   "outputs": [],
   "source": [
    "import glob\n",
    "import pandas as pd"
   ]
  },
  {
   "cell_type": "code",
   "execution_count": 2,
   "id": "98caa906-d222-420b-88ad-016402c8ac26",
   "metadata": {},
   "outputs": [
    {
     "name": "stdout",
     "output_type": "stream",
     "text": [
      "['/home/ketan/repos/ibTrack/VCTPL/LogProcessing/src/reader_logs/log_files/Lane3/Rfid_Reader_Data_03-02-2024.txt', '/home/ketan/repos/ibTrack/VCTPL/LogProcessing/src/reader_logs/log_files/Lane5/Rfid_Reader_Data_03-02-2024.txt', '/home/ketan/repos/ibTrack/VCTPL/LogProcessing/src/reader_logs/log_files/Lane2/Rfid_Reader_Data_03-02-2024.txt', '/home/ketan/repos/ibTrack/VCTPL/LogProcessing/src/reader_logs/log_files/Lane1/Rfid_Reader_Data_03-02-2024.txt', '/home/ketan/repos/ibTrack/VCTPL/LogProcessing/src/reader_logs/log_files/Lane4/Rfid_Reader_Data_03-02-2024.txt']\n"
     ]
    }
   ],
   "source": [
    "folder_path = '/home/ketan/repos/ibTrack/VCTPL/LogProcessing/src/reader_logs/log_files'\n",
    "res = glob.glob(f\"{folder_path}/**/*.txt\", recursive=True)\n",
    "print(res)"
   ]
  },
  {
   "cell_type": "code",
   "execution_count": 3,
   "id": "3ec5f368-f427-4966-9602-0f2cce54d6ce",
   "metadata": {},
   "outputs": [],
   "source": [
    "def load_file_to_df(filename):\n",
    "    \"\"\"This function takes a file name as an input and loads it into a dataframe\n",
    "    and returns a dataframe\"\"\"\n",
    "    try:\n",
    "        df_file = pd.read_csv(filename,\n",
    "                              sep=\" : \",\n",
    "                              header=None,\n",
    "                              names=[\"Reader_IP\", \"Tag ID\", \"TEMP\"], engine=\"python\")\n",
    "    except FileNotFoundError as fnfe:\n",
    "        df_file = None\n",
    "        print(f\"{filename} not found. Please check the folder selection and try again\")\n",
    "\n",
    "    if df_file is not None:\n",
    "        df_file.head()\n",
    "\n",
    "    return df_file\n"
   ]
  },
  {
   "cell_type": "code",
   "execution_count": 5,
   "id": "0afe360e-6aaa-4e90-8dac-4ee50d66c570",
   "metadata": {},
   "outputs": [
    {
     "name": "stdout",
     "output_type": "stream",
     "text": [
      "Start importing file /home/ketan/repos/ibTrack/VCTPL/LogProcessing/src/reader_logs/log_files/Lane3/Rfid_Reader_Data_03-02-2024.txt\n",
      "Start importing file /home/ketan/repos/ibTrack/VCTPL/LogProcessing/src/reader_logs/log_files/Lane5/Rfid_Reader_Data_03-02-2024.txt\n",
      "Start importing file /home/ketan/repos/ibTrack/VCTPL/LogProcessing/src/reader_logs/log_files/Lane2/Rfid_Reader_Data_03-02-2024.txt\n",
      "Start importing file /home/ketan/repos/ibTrack/VCTPL/LogProcessing/src/reader_logs/log_files/Lane1/Rfid_Reader_Data_03-02-2024.txt\n",
      "Start importing file /home/ketan/repos/ibTrack/VCTPL/LogProcessing/src/reader_logs/log_files/Lane4/Rfid_Reader_Data_03-02-2024.txt\n"
     ]
    }
   ],
   "source": [
    "df_all_files = pd.DataFrame()\n",
    "for file in res:\n",
    "    print(f\"Start importing file {file}\")\n",
    "    df_all_files = pd.concat([df_all_files, load_file_to_df(file)],\n",
    "                             axis=0,\n",
    "                             ignore_index=True)\n"
   ]
  },
  {
   "cell_type": "markdown",
   "id": "e137c990-fbdf-4310-abd8-9e88e582cc46",
   "metadata": {},
   "source": [
    "df_all_files.head()"
   ]
  },
  {
   "cell_type": "markdown",
   "id": "69d0f35c-e767-4d23-b09f-364abd838ac8",
   "metadata": {},
   "source": [
    "df_all_files.info()"
   ]
  },
  {
   "cell_type": "code",
   "execution_count": 6,
   "id": "f1170099-d8e8-4147-9372-6dfe4be57a85",
   "metadata": {},
   "outputs": [],
   "source": [
    "def df_preprocess(df):\n",
    "    # processing the dataframe to get the relevant data in the format that can be processed\n",
    "    df[[\"RSSI\", \"Date\", \"Time\", \"AMPM\"]] = df[\"TEMP\"].str.split(\" \", expand=True)\n",
    "    df[\"TimeStamp\"] = pd.to_datetime(df['Date'] + ' ' + df['Time'], format=\"%m/%d/%Y %H:%M:%S\")\n",
    "    df = df.drop(labels=[\"Date\", \"Time\", \"AMPM\", \"TEMP\"], axis=1)\n",
    "    \n",
    "    df.sort_values(by=[\"Tag ID\", \"Reader_IP\", \"TimeStamp\"])\n",
    "    df.reset_index()\n",
    "\n",
    "    # df_by_group = df.groupby(by=[\"Tag ID\", \"Reader_IP\"], sort=True, group_keys=True)\n",
    "    # df_by_group = df.groupby(by=[\"Tag ID\", \"Reader_IP\"], sort=True, group_keys=True)\n",
    "\n",
    "    # return df_by_group\n",
    "    return df"
   ]
  },
  {
   "cell_type": "code",
   "execution_count": 7,
   "id": "69e2c08d-988d-4a85-bcb5-b7303706b33d",
   "metadata": {},
   "outputs": [],
   "source": [
    "df_processed = df_preprocess(df_all_files)"
   ]
  },
  {
   "cell_type": "markdown",
   "id": "6f53d70d-2e9b-4cf9-ac4f-56627518e216",
   "metadata": {
    "scrolled": true
   },
   "source": [
    "df_processed.info()"
   ]
  },
  {
   "cell_type": "markdown",
   "id": "4851015a-2413-4bff-a74b-5cb8ded30aa5",
   "metadata": {
    "scrolled": true
   },
   "source": [
    "df_processed.head(150)"
   ]
  },
  {
   "cell_type": "markdown",
   "id": "bbf2340f-4024-4162-8ba9-42bb891b6e46",
   "metadata": {},
   "source": [
    "df_processed.tail()"
   ]
  },
  {
   "cell_type": "code",
   "execution_count": 8,
   "id": "911e2689-8d23-491e-a449-3b527cfcba64",
   "metadata": {},
   "outputs": [
    {
     "name": "stdout",
     "output_type": "stream",
     "text": [
      "<class 'pandas.core.frame.DataFrame'>\n",
      "RangeIndex: 728340 entries, 0 to 728339\n",
      "Data columns (total 4 columns):\n",
      " #   Column     Non-Null Count   Dtype         \n",
      "---  ------     --------------   -----         \n",
      " 0   Reader_IP  728340 non-null  object        \n",
      " 1   Tag ID     728340 non-null  object        \n",
      " 2   RSSI       728340 non-null  object        \n",
      " 3   TimeStamp  728340 non-null  datetime64[ns]\n",
      "dtypes: datetime64[ns](1), object(3)\n",
      "memory usage: 22.2+ MB\n"
     ]
    }
   ],
   "source": [
    "df_processed.info()"
   ]
  },
  {
   "cell_type": "code",
   "execution_count": 9,
   "id": "6a7733ea-ed3a-4adc-9d7b-70e9cdebab29",
   "metadata": {},
   "outputs": [],
   "source": [
    "df_processed[\"RSSI\"] = df_processed[\"RSSI\"].astype(float)\n",
    "df_processed['TimeStamp'] = pd.to_datetime(df_processed['TimeStamp'])"
   ]
  },
  {
   "cell_type": "code",
   "execution_count": 10,
   "id": "1c6b3e94-8dbf-4ad9-a5fe-8428476eeec8",
   "metadata": {},
   "outputs": [],
   "source": [
    "df_processed['batch'] = (df_processed['Reader_IP'] != df_processed['Reader_IP'].shift(1)) | (df_processed['Tag ID'] != df_processed['Tag ID'].shift(1)) | (df_processed['TimeStamp'].shift(1) - df_processed['TimeStamp'] > pd.Timedelta(1,'h'))"
   ]
  },
  {
   "cell_type": "code",
   "execution_count": 17,
   "id": "347f6541-d09e-4d53-b33c-85b184cdbcc6",
   "metadata": {},
   "outputs": [
    {
     "data": {
      "text/html": [
       "<div>\n",
       "<style scoped>\n",
       "    .dataframe tbody tr th:only-of-type {\n",
       "        vertical-align: middle;\n",
       "    }\n",
       "\n",
       "    .dataframe tbody tr th {\n",
       "        vertical-align: top;\n",
       "    }\n",
       "\n",
       "    .dataframe thead th {\n",
       "        text-align: right;\n",
       "    }\n",
       "</style>\n",
       "<table border=\"1\" class=\"dataframe\">\n",
       "  <thead>\n",
       "    <tr style=\"text-align: right;\">\n",
       "      <th></th>\n",
       "      <th>Reader_IP</th>\n",
       "      <th>Tag ID</th>\n",
       "      <th>RSSI</th>\n",
       "      <th>TimeStamp</th>\n",
       "      <th>batch</th>\n",
       "    </tr>\n",
       "  </thead>\n",
       "  <tbody>\n",
       "    <tr>\n",
       "      <th>0</th>\n",
       "      <td>192.168.15.232</td>\n",
       "      <td>34161FA820328EE8092E7020</td>\n",
       "      <td>61.6</td>\n",
       "      <td>2024-02-03 00:00:05</td>\n",
       "      <td>True</td>\n",
       "    </tr>\n",
       "    <tr>\n",
       "      <th>1</th>\n",
       "      <td>192.168.15.232</td>\n",
       "      <td>34161FA820328EE8092E7020</td>\n",
       "      <td>60.8</td>\n",
       "      <td>2024-02-03 00:00:05</td>\n",
       "      <td>False</td>\n",
       "    </tr>\n",
       "    <tr>\n",
       "      <th>2</th>\n",
       "      <td>192.168.15.232</td>\n",
       "      <td>34161FA820328EE8092E7020</td>\n",
       "      <td>60.0</td>\n",
       "      <td>2024-02-03 00:00:05</td>\n",
       "      <td>False</td>\n",
       "    </tr>\n",
       "    <tr>\n",
       "      <th>3</th>\n",
       "      <td>192.168.15.232</td>\n",
       "      <td>34161FA820328EE8092E7020</td>\n",
       "      <td>62.4</td>\n",
       "      <td>2024-02-03 00:00:05</td>\n",
       "      <td>False</td>\n",
       "    </tr>\n",
       "    <tr>\n",
       "      <th>4</th>\n",
       "      <td>192.168.15.232</td>\n",
       "      <td>34161FA820328EE8092E7020</td>\n",
       "      <td>64.0</td>\n",
       "      <td>2024-02-03 00:00:05</td>\n",
       "      <td>False</td>\n",
       "    </tr>\n",
       "  </tbody>\n",
       "</table>\n",
       "</div>"
      ],
      "text/plain": [
       "        Reader_IP                    Tag ID  RSSI           TimeStamp  batch\n",
       "0  192.168.15.232  34161FA820328EE8092E7020  61.6 2024-02-03 00:00:05   True\n",
       "1  192.168.15.232  34161FA820328EE8092E7020  60.8 2024-02-03 00:00:05  False\n",
       "2  192.168.15.232  34161FA820328EE8092E7020  60.0 2024-02-03 00:00:05  False\n",
       "3  192.168.15.232  34161FA820328EE8092E7020  62.4 2024-02-03 00:00:05  False\n",
       "4  192.168.15.232  34161FA820328EE8092E7020  64.0 2024-02-03 00:00:05  False"
      ]
     },
     "execution_count": 17,
     "metadata": {},
     "output_type": "execute_result"
    }
   ],
   "source": [
    "df_processed.head()"
   ]
  },
  {
   "cell_type": "code",
   "execution_count": 16,
   "id": "6aa039c8-462b-4ed4-86dd-aad7f234bd58",
   "metadata": {},
   "outputs": [
    {
     "ename": "TypeError",
     "evalue": "datetime64 type does not support cumsum operations",
     "output_type": "error",
     "traceback": [
      "\u001b[0;31m---------------------------------------------------------------------------\u001b[0m",
      "\u001b[0;31mTypeError\u001b[0m                                 Traceback (most recent call last)",
      "Cell \u001b[0;32mIn[16], line 3\u001b[0m\n\u001b[1;32m      1\u001b[0m \u001b[38;5;66;03m# Create a batch number for each set of consecutive rows with the same 'sensor_id' and 'reader_id'\u001b[39;00m\n\u001b[0;32m----> 3\u001b[0m df_processed[\u001b[38;5;124m'\u001b[39m\u001b[38;5;124mbatch_number\u001b[39m\u001b[38;5;124m'\u001b[39m] \u001b[38;5;241m=\u001b[39m \u001b[43mdf_processed\u001b[49m\u001b[38;5;241;43m.\u001b[39;49m\u001b[43mgroupby\u001b[49m\u001b[43m(\u001b[49m\u001b[43m[\u001b[49m\u001b[38;5;124;43m'\u001b[39;49m\u001b[38;5;124;43mTag ID\u001b[39;49m\u001b[38;5;124;43m'\u001b[39;49m\u001b[43m,\u001b[49m\u001b[43m \u001b[49m\u001b[38;5;124;43m'\u001b[39;49m\u001b[38;5;124;43mReader_IP\u001b[39;49m\u001b[38;5;124;43m'\u001b[39;49m\u001b[43m,\u001b[49m\u001b[43m \u001b[49m\u001b[38;5;124;43m'\u001b[39;49m\u001b[38;5;124;43mbatch\u001b[39;49m\u001b[38;5;124;43m'\u001b[39;49m\u001b[43m]\u001b[49m\u001b[43m)\u001b[49m\u001b[38;5;241;43m.\u001b[39;49m\u001b[43mcumsum\u001b[49m\u001b[43m(\u001b[49m\u001b[43m)\u001b[49m\n",
      "File \u001b[0;32m~/repos/ibTrack/VCTPL/LogProcessing/lib/python3.10/site-packages/pandas/core/groupby/groupby.py:4916\u001b[0m, in \u001b[0;36mGroupBy.cumsum\u001b[0;34m(self, axis, *args, **kwargs)\u001b[0m\n\u001b[1;32m   4913\u001b[0m     f \u001b[38;5;241m=\u001b[39m \u001b[38;5;28;01mlambda\u001b[39;00m x: x\u001b[38;5;241m.\u001b[39mcumsum(axis\u001b[38;5;241m=\u001b[39maxis, \u001b[38;5;241m*\u001b[39m\u001b[38;5;241m*\u001b[39mkwargs)\n\u001b[1;32m   4914\u001b[0m     \u001b[38;5;28;01mreturn\u001b[39;00m \u001b[38;5;28mself\u001b[39m\u001b[38;5;241m.\u001b[39m_python_apply_general(f, \u001b[38;5;28mself\u001b[39m\u001b[38;5;241m.\u001b[39m_selected_obj, is_transform\u001b[38;5;241m=\u001b[39m\u001b[38;5;28;01mTrue\u001b[39;00m)\n\u001b[0;32m-> 4916\u001b[0m \u001b[38;5;28;01mreturn\u001b[39;00m \u001b[38;5;28;43mself\u001b[39;49m\u001b[38;5;241;43m.\u001b[39;49m\u001b[43m_cython_transform\u001b[49m\u001b[43m(\u001b[49m\u001b[38;5;124;43m\"\u001b[39;49m\u001b[38;5;124;43mcumsum\u001b[39;49m\u001b[38;5;124;43m\"\u001b[39;49m\u001b[43m,\u001b[49m\u001b[43m \u001b[49m\u001b[38;5;241;43m*\u001b[39;49m\u001b[38;5;241;43m*\u001b[39;49m\u001b[43mkwargs\u001b[49m\u001b[43m)\u001b[49m\n",
      "File \u001b[0;32m~/repos/ibTrack/VCTPL/LogProcessing/lib/python3.10/site-packages/pandas/core/groupby/generic.py:1702\u001b[0m, in \u001b[0;36mDataFrameGroupBy._cython_transform\u001b[0;34m(self, how, numeric_only, axis, **kwargs)\u001b[0m\n\u001b[1;32m   1696\u001b[0m     \u001b[38;5;28;01mreturn\u001b[39;00m \u001b[38;5;28mself\u001b[39m\u001b[38;5;241m.\u001b[39m_grouper\u001b[38;5;241m.\u001b[39m_cython_operation(\n\u001b[1;32m   1697\u001b[0m         \u001b[38;5;124m\"\u001b[39m\u001b[38;5;124mtransform\u001b[39m\u001b[38;5;124m\"\u001b[39m, bvalues, how, \u001b[38;5;241m1\u001b[39m, \u001b[38;5;241m*\u001b[39m\u001b[38;5;241m*\u001b[39mkwargs\n\u001b[1;32m   1698\u001b[0m     )\n\u001b[1;32m   1700\u001b[0m \u001b[38;5;66;03m# We could use `mgr.apply` here and not have to set_axis, but\u001b[39;00m\n\u001b[1;32m   1701\u001b[0m \u001b[38;5;66;03m#  we would have to do shape gymnastics for ArrayManager compat\u001b[39;00m\n\u001b[0;32m-> 1702\u001b[0m res_mgr \u001b[38;5;241m=\u001b[39m \u001b[43mmgr\u001b[49m\u001b[38;5;241;43m.\u001b[39;49m\u001b[43mgrouped_reduce\u001b[49m\u001b[43m(\u001b[49m\u001b[43marr_func\u001b[49m\u001b[43m)\u001b[49m\n\u001b[1;32m   1703\u001b[0m res_mgr\u001b[38;5;241m.\u001b[39mset_axis(\u001b[38;5;241m1\u001b[39m, mgr\u001b[38;5;241m.\u001b[39maxes[\u001b[38;5;241m1\u001b[39m])\n\u001b[1;32m   1705\u001b[0m res_df \u001b[38;5;241m=\u001b[39m \u001b[38;5;28mself\u001b[39m\u001b[38;5;241m.\u001b[39mobj\u001b[38;5;241m.\u001b[39m_constructor_from_mgr(res_mgr, axes\u001b[38;5;241m=\u001b[39mres_mgr\u001b[38;5;241m.\u001b[39maxes)\n",
      "File \u001b[0;32m~/repos/ibTrack/VCTPL/LogProcessing/lib/python3.10/site-packages/pandas/core/internals/managers.py:1473\u001b[0m, in \u001b[0;36mBlockManager.grouped_reduce\u001b[0;34m(self, func)\u001b[0m\n\u001b[1;32m   1471\u001b[0m             result_blocks \u001b[38;5;241m=\u001b[39m extend_blocks(applied, result_blocks)\n\u001b[1;32m   1472\u001b[0m     \u001b[38;5;28;01melse\u001b[39;00m:\n\u001b[0;32m-> 1473\u001b[0m         applied \u001b[38;5;241m=\u001b[39m \u001b[43mblk\u001b[49m\u001b[38;5;241;43m.\u001b[39;49m\u001b[43mapply\u001b[49m\u001b[43m(\u001b[49m\u001b[43mfunc\u001b[49m\u001b[43m)\u001b[49m\n\u001b[1;32m   1474\u001b[0m         result_blocks \u001b[38;5;241m=\u001b[39m extend_blocks(applied, result_blocks)\n\u001b[1;32m   1476\u001b[0m \u001b[38;5;28;01mif\u001b[39;00m \u001b[38;5;28mlen\u001b[39m(result_blocks) \u001b[38;5;241m==\u001b[39m \u001b[38;5;241m0\u001b[39m:\n",
      "File \u001b[0;32m~/repos/ibTrack/VCTPL/LogProcessing/lib/python3.10/site-packages/pandas/core/internals/blocks.py:393\u001b[0m, in \u001b[0;36mBlock.apply\u001b[0;34m(self, func, **kwargs)\u001b[0m\n\u001b[1;32m    387\u001b[0m \u001b[38;5;129m@final\u001b[39m\n\u001b[1;32m    388\u001b[0m \u001b[38;5;28;01mdef\u001b[39;00m \u001b[38;5;21mapply\u001b[39m(\u001b[38;5;28mself\u001b[39m, func, \u001b[38;5;241m*\u001b[39m\u001b[38;5;241m*\u001b[39mkwargs) \u001b[38;5;241m-\u001b[39m\u001b[38;5;241m>\u001b[39m \u001b[38;5;28mlist\u001b[39m[Block]:\n\u001b[1;32m    389\u001b[0m \u001b[38;5;250m    \u001b[39m\u001b[38;5;124;03m\"\"\"\u001b[39;00m\n\u001b[1;32m    390\u001b[0m \u001b[38;5;124;03m    apply the function to my values; return a block if we are not\u001b[39;00m\n\u001b[1;32m    391\u001b[0m \u001b[38;5;124;03m    one\u001b[39;00m\n\u001b[1;32m    392\u001b[0m \u001b[38;5;124;03m    \"\"\"\u001b[39;00m\n\u001b[0;32m--> 393\u001b[0m     result \u001b[38;5;241m=\u001b[39m \u001b[43mfunc\u001b[49m\u001b[43m(\u001b[49m\u001b[38;5;28;43mself\u001b[39;49m\u001b[38;5;241;43m.\u001b[39;49m\u001b[43mvalues\u001b[49m\u001b[43m,\u001b[49m\u001b[43m \u001b[49m\u001b[38;5;241;43m*\u001b[39;49m\u001b[38;5;241;43m*\u001b[39;49m\u001b[43mkwargs\u001b[49m\u001b[43m)\u001b[49m\n\u001b[1;32m    395\u001b[0m     result \u001b[38;5;241m=\u001b[39m maybe_coerce_values(result)\n\u001b[1;32m    396\u001b[0m     \u001b[38;5;28;01mreturn\u001b[39;00m \u001b[38;5;28mself\u001b[39m\u001b[38;5;241m.\u001b[39m_split_op_result(result)\n",
      "File \u001b[0;32m~/repos/ibTrack/VCTPL/LogProcessing/lib/python3.10/site-packages/pandas/core/groupby/generic.py:1696\u001b[0m, in \u001b[0;36mDataFrameGroupBy._cython_transform.<locals>.arr_func\u001b[0;34m(bvalues)\u001b[0m\n\u001b[1;32m   1695\u001b[0m \u001b[38;5;28;01mdef\u001b[39;00m \u001b[38;5;21marr_func\u001b[39m(bvalues: ArrayLike) \u001b[38;5;241m-\u001b[39m\u001b[38;5;241m>\u001b[39m ArrayLike:\n\u001b[0;32m-> 1696\u001b[0m     \u001b[38;5;28;01mreturn\u001b[39;00m \u001b[38;5;28;43mself\u001b[39;49m\u001b[38;5;241;43m.\u001b[39;49m\u001b[43m_grouper\u001b[49m\u001b[38;5;241;43m.\u001b[39;49m\u001b[43m_cython_operation\u001b[49m\u001b[43m(\u001b[49m\n\u001b[1;32m   1697\u001b[0m \u001b[43m        \u001b[49m\u001b[38;5;124;43m\"\u001b[39;49m\u001b[38;5;124;43mtransform\u001b[39;49m\u001b[38;5;124;43m\"\u001b[39;49m\u001b[43m,\u001b[49m\u001b[43m \u001b[49m\u001b[43mbvalues\u001b[49m\u001b[43m,\u001b[49m\u001b[43m \u001b[49m\u001b[43mhow\u001b[49m\u001b[43m,\u001b[49m\u001b[43m \u001b[49m\u001b[38;5;241;43m1\u001b[39;49m\u001b[43m,\u001b[49m\u001b[43m \u001b[49m\u001b[38;5;241;43m*\u001b[39;49m\u001b[38;5;241;43m*\u001b[39;49m\u001b[43mkwargs\u001b[49m\n\u001b[1;32m   1698\u001b[0m \u001b[43m    \u001b[49m\u001b[43m)\u001b[49m\n",
      "File \u001b[0;32m~/repos/ibTrack/VCTPL/LogProcessing/lib/python3.10/site-packages/pandas/core/groupby/ops.py:830\u001b[0m, in \u001b[0;36mBaseGrouper._cython_operation\u001b[0;34m(self, kind, values, how, axis, min_count, **kwargs)\u001b[0m\n\u001b[1;32m    828\u001b[0m ids, _, _ \u001b[38;5;241m=\u001b[39m \u001b[38;5;28mself\u001b[39m\u001b[38;5;241m.\u001b[39mgroup_info\n\u001b[1;32m    829\u001b[0m ngroups \u001b[38;5;241m=\u001b[39m \u001b[38;5;28mself\u001b[39m\u001b[38;5;241m.\u001b[39mngroups\n\u001b[0;32m--> 830\u001b[0m \u001b[38;5;28;01mreturn\u001b[39;00m \u001b[43mcy_op\u001b[49m\u001b[38;5;241;43m.\u001b[39;49m\u001b[43mcython_operation\u001b[49m\u001b[43m(\u001b[49m\n\u001b[1;32m    831\u001b[0m \u001b[43m    \u001b[49m\u001b[43mvalues\u001b[49m\u001b[38;5;241;43m=\u001b[39;49m\u001b[43mvalues\u001b[49m\u001b[43m,\u001b[49m\n\u001b[1;32m    832\u001b[0m \u001b[43m    \u001b[49m\u001b[43maxis\u001b[49m\u001b[38;5;241;43m=\u001b[39;49m\u001b[43maxis\u001b[49m\u001b[43m,\u001b[49m\n\u001b[1;32m    833\u001b[0m \u001b[43m    \u001b[49m\u001b[43mmin_count\u001b[49m\u001b[38;5;241;43m=\u001b[39;49m\u001b[43mmin_count\u001b[49m\u001b[43m,\u001b[49m\n\u001b[1;32m    834\u001b[0m \u001b[43m    \u001b[49m\u001b[43mcomp_ids\u001b[49m\u001b[38;5;241;43m=\u001b[39;49m\u001b[43mids\u001b[49m\u001b[43m,\u001b[49m\n\u001b[1;32m    835\u001b[0m \u001b[43m    \u001b[49m\u001b[43mngroups\u001b[49m\u001b[38;5;241;43m=\u001b[39;49m\u001b[43mngroups\u001b[49m\u001b[43m,\u001b[49m\n\u001b[1;32m    836\u001b[0m \u001b[43m    \u001b[49m\u001b[38;5;241;43m*\u001b[39;49m\u001b[38;5;241;43m*\u001b[39;49m\u001b[43mkwargs\u001b[49m\u001b[43m,\u001b[49m\n\u001b[1;32m    837\u001b[0m \u001b[43m\u001b[49m\u001b[43m)\u001b[49m\n",
      "File \u001b[0;32m~/repos/ibTrack/VCTPL/LogProcessing/lib/python3.10/site-packages/pandas/core/groupby/ops.py:540\u001b[0m, in \u001b[0;36mWrappedCythonOp.cython_operation\u001b[0;34m(self, values, axis, min_count, comp_ids, ngroups, **kwargs)\u001b[0m\n\u001b[1;32m    536\u001b[0m \u001b[38;5;28mself\u001b[39m\u001b[38;5;241m.\u001b[39m_validate_axis(axis, values)\n\u001b[1;32m    538\u001b[0m \u001b[38;5;28;01mif\u001b[39;00m \u001b[38;5;129;01mnot\u001b[39;00m \u001b[38;5;28misinstance\u001b[39m(values, np\u001b[38;5;241m.\u001b[39mndarray):\n\u001b[1;32m    539\u001b[0m     \u001b[38;5;66;03m# i.e. ExtensionArray\u001b[39;00m\n\u001b[0;32m--> 540\u001b[0m     \u001b[38;5;28;01mreturn\u001b[39;00m \u001b[43mvalues\u001b[49m\u001b[38;5;241;43m.\u001b[39;49m\u001b[43m_groupby_op\u001b[49m\u001b[43m(\u001b[49m\n\u001b[1;32m    541\u001b[0m \u001b[43m        \u001b[49m\u001b[43mhow\u001b[49m\u001b[38;5;241;43m=\u001b[39;49m\u001b[38;5;28;43mself\u001b[39;49m\u001b[38;5;241;43m.\u001b[39;49m\u001b[43mhow\u001b[49m\u001b[43m,\u001b[49m\n\u001b[1;32m    542\u001b[0m \u001b[43m        \u001b[49m\u001b[43mhas_dropped_na\u001b[49m\u001b[38;5;241;43m=\u001b[39;49m\u001b[38;5;28;43mself\u001b[39;49m\u001b[38;5;241;43m.\u001b[39;49m\u001b[43mhas_dropped_na\u001b[49m\u001b[43m,\u001b[49m\n\u001b[1;32m    543\u001b[0m \u001b[43m        \u001b[49m\u001b[43mmin_count\u001b[49m\u001b[38;5;241;43m=\u001b[39;49m\u001b[43mmin_count\u001b[49m\u001b[43m,\u001b[49m\n\u001b[1;32m    544\u001b[0m \u001b[43m        \u001b[49m\u001b[43mngroups\u001b[49m\u001b[38;5;241;43m=\u001b[39;49m\u001b[43mngroups\u001b[49m\u001b[43m,\u001b[49m\n\u001b[1;32m    545\u001b[0m \u001b[43m        \u001b[49m\u001b[43mids\u001b[49m\u001b[38;5;241;43m=\u001b[39;49m\u001b[43mcomp_ids\u001b[49m\u001b[43m,\u001b[49m\n\u001b[1;32m    546\u001b[0m \u001b[43m        \u001b[49m\u001b[38;5;241;43m*\u001b[39;49m\u001b[38;5;241;43m*\u001b[39;49m\u001b[43mkwargs\u001b[49m\u001b[43m,\u001b[49m\n\u001b[1;32m    547\u001b[0m \u001b[43m    \u001b[49m\u001b[43m)\u001b[49m\n\u001b[1;32m    549\u001b[0m \u001b[38;5;28;01mreturn\u001b[39;00m \u001b[38;5;28mself\u001b[39m\u001b[38;5;241m.\u001b[39m_cython_op_ndim_compat(\n\u001b[1;32m    550\u001b[0m     values,\n\u001b[1;32m    551\u001b[0m     min_count\u001b[38;5;241m=\u001b[39mmin_count,\n\u001b[0;32m   (...)\u001b[0m\n\u001b[1;32m    555\u001b[0m     \u001b[38;5;241m*\u001b[39m\u001b[38;5;241m*\u001b[39mkwargs,\n\u001b[1;32m    556\u001b[0m )\n",
      "File \u001b[0;32m~/repos/ibTrack/VCTPL/LogProcessing/lib/python3.10/site-packages/pandas/core/arrays/datetimelike.py:1669\u001b[0m, in \u001b[0;36mDatetimeLikeArrayMixin._groupby_op\u001b[0;34m(self, how, has_dropped_na, min_count, ngroups, ids, **kwargs)\u001b[0m\n\u001b[1;32m   1666\u001b[0m \u001b[38;5;28;01mif\u001b[39;00m dtype\u001b[38;5;241m.\u001b[39mkind \u001b[38;5;241m==\u001b[39m \u001b[38;5;124m\"\u001b[39m\u001b[38;5;124mM\u001b[39m\u001b[38;5;124m\"\u001b[39m:\n\u001b[1;32m   1667\u001b[0m     \u001b[38;5;66;03m# Adding/multiplying datetimes is not valid\u001b[39;00m\n\u001b[1;32m   1668\u001b[0m     \u001b[38;5;28;01mif\u001b[39;00m how \u001b[38;5;129;01min\u001b[39;00m [\u001b[38;5;124m\"\u001b[39m\u001b[38;5;124msum\u001b[39m\u001b[38;5;124m\"\u001b[39m, \u001b[38;5;124m\"\u001b[39m\u001b[38;5;124mprod\u001b[39m\u001b[38;5;124m\"\u001b[39m, \u001b[38;5;124m\"\u001b[39m\u001b[38;5;124mcumsum\u001b[39m\u001b[38;5;124m\"\u001b[39m, \u001b[38;5;124m\"\u001b[39m\u001b[38;5;124mcumprod\u001b[39m\u001b[38;5;124m\"\u001b[39m, \u001b[38;5;124m\"\u001b[39m\u001b[38;5;124mvar\u001b[39m\u001b[38;5;124m\"\u001b[39m, \u001b[38;5;124m\"\u001b[39m\u001b[38;5;124mskew\u001b[39m\u001b[38;5;124m\"\u001b[39m]:\n\u001b[0;32m-> 1669\u001b[0m         \u001b[38;5;28;01mraise\u001b[39;00m \u001b[38;5;167;01mTypeError\u001b[39;00m(\u001b[38;5;124mf\u001b[39m\u001b[38;5;124m\"\u001b[39m\u001b[38;5;124mdatetime64 type does not support \u001b[39m\u001b[38;5;132;01m{\u001b[39;00mhow\u001b[38;5;132;01m}\u001b[39;00m\u001b[38;5;124m operations\u001b[39m\u001b[38;5;124m\"\u001b[39m)\n\u001b[1;32m   1670\u001b[0m     \u001b[38;5;28;01mif\u001b[39;00m how \u001b[38;5;129;01min\u001b[39;00m [\u001b[38;5;124m\"\u001b[39m\u001b[38;5;124many\u001b[39m\u001b[38;5;124m\"\u001b[39m, \u001b[38;5;124m\"\u001b[39m\u001b[38;5;124mall\u001b[39m\u001b[38;5;124m\"\u001b[39m]:\n\u001b[1;32m   1671\u001b[0m         \u001b[38;5;66;03m# GH#34479\u001b[39;00m\n\u001b[1;32m   1672\u001b[0m         warnings\u001b[38;5;241m.\u001b[39mwarn(\n\u001b[1;32m   1673\u001b[0m             \u001b[38;5;124mf\u001b[39m\u001b[38;5;124m\"\u001b[39m\u001b[38;5;124m'\u001b[39m\u001b[38;5;132;01m{\u001b[39;00mhow\u001b[38;5;132;01m}\u001b[39;00m\u001b[38;5;124m'\u001b[39m\u001b[38;5;124m with datetime64 dtypes is deprecated and will raise in a \u001b[39m\u001b[38;5;124m\"\u001b[39m\n\u001b[1;32m   1674\u001b[0m             \u001b[38;5;124mf\u001b[39m\u001b[38;5;124m\"\u001b[39m\u001b[38;5;124mfuture version. Use (obj != pd.Timestamp(0)).\u001b[39m\u001b[38;5;132;01m{\u001b[39;00mhow\u001b[38;5;132;01m}\u001b[39;00m\u001b[38;5;124m() instead.\u001b[39m\u001b[38;5;124m\"\u001b[39m,\n\u001b[1;32m   1675\u001b[0m             \u001b[38;5;167;01mFutureWarning\u001b[39;00m,\n\u001b[1;32m   1676\u001b[0m             stacklevel\u001b[38;5;241m=\u001b[39mfind_stack_level(),\n\u001b[1;32m   1677\u001b[0m         )\n",
      "\u001b[0;31mTypeError\u001b[0m: datetime64 type does not support cumsum operations"
     ]
    }
   ],
   "source": [
    "# Create a batch number for each set of consecutive rows with the same 'sensor_id' and 'reader_id'\n",
    "\n",
    "df_processed['batch_number'] = df_processed.groupby(['Tag ID', 'Reader_IP', 'batch']).cumsum()"
   ]
  },
  {
   "cell_type": "code",
   "execution_count": null,
   "id": "c743161a-88d7-43e0-82df-021579bda5dd",
   "metadata": {},
   "outputs": [],
   "source": [
    "df_grouped = df_processed.groupby([\"Tag ID\", \"Reader_IP\", \"batch_number\"])"
   ]
  },
  {
   "cell_type": "code",
   "execution_count": null,
   "id": "e6d37b43-7e5a-435e-a3bd-6d071147c709",
   "metadata": {},
   "outputs": [],
   "source": [
    "agg_functions = {\n",
    "    'TimeStamp': ['min', 'max'],\n",
    "    'RSSI': 'max'\n",
    "}"
   ]
  },
  {
   "cell_type": "code",
   "execution_count": null,
   "id": "a6c2b4a0-df3f-4e3f-9176-97077154dc9a",
   "metadata": {},
   "outputs": [],
   "source": [
    "result_df = df_grouped.agg(agg_functions).reset_index()"
   ]
  },
  {
   "cell_type": "code",
   "execution_count": null,
   "id": "eb1152dd-47ae-44d5-9628-e4eaf8a74736",
   "metadata": {},
   "outputs": [],
   "source": [
    "print(result_df)"
   ]
  },
  {
   "cell_type": "code",
   "execution_count": null,
   "id": "526beed3-d204-4ecc-96a1-2a0ecfd72b02",
   "metadata": {},
   "outputs": [],
   "source": [
    "result_df.to_csv"
   ]
  }
 ],
 "metadata": {
  "kernelspec": {
   "display_name": "Python 3 (ipykernel)",
   "language": "python",
   "name": "python3"
  },
  "language_info": {
   "codemirror_mode": {
    "name": "ipython",
    "version": 3
   },
   "file_extension": ".py",
   "mimetype": "text/x-python",
   "name": "python",
   "nbconvert_exporter": "python",
   "pygments_lexer": "ipython3",
   "version": "3.10.12"
  }
 },
 "nbformat": 4,
 "nbformat_minor": 5
}
